{
 "cells": [
  {
   "cell_type": "markdown",
   "metadata": {},
   "source": [
    "# Patch Wise Inference   (Please read this carefully!)\n",
    "\n",
    "This notebook is to do inference based on the model in this github repository https://github.com/ellisdg/3DUnetCNN\n",
    "\n",
    "\n",
    "## Introduction\n",
    "They are doing a comparison between a 3DUnet and 3DUnet Patch Wise network and they want to demostrate that patch wise is a better sulution that unet.\n",
    "\n",
    "<center>\n",
    "<div style='display: flex;flex-wrap: wrap;'>\n",
    "<figure style=\"float: left;\">\n",
    "<img src='https://www.researchgate.net/publication/327941585/figure/fig3/AS:686047130296330@1540577790472/The-architecture-of-the-patch-wise-convolutional-network-This-paper-splits-the-large.ppm'/>\n",
    "<figcaption><h1>Patch Wise Unet Covolutional Network.</h1></figcaption>\n",
    "</figure>\n",
    "\n",
    "<figure style=\"float: right;\">\n",
    "<img src='https://www.ncbi.nlm.nih.gov/pmc/articles/PMC6210727/bin/sensors-18-03232-g001.jpg'/>\n",
    "<figcaption><h1> Patch Wise Model Training and Evaluation.</h1></figcaption>\n",
    "</figure>\n",
    "</div>\n",
    "</center>\n",
    "\n",
    "\n",
    "## Loss and Metrics\n",
    "For this purpose they are using Dice like a loss function and Dice Coefficient like a metric for performace. (<a href='https://medium.com/datadriveninvestor/deep-learning-in-medical-imaging-3c1008431aaf'>Explanation here</a>)\n",
    "\n",
    "\n",
    "## Preprocessing\n",
    "\n",
    "They are using a set of tools to do preprocessing, like a for example <a href='https://itk.org/'>https://itk.org/</a> and <a href='https://github.com/ANTsX/ANTs#advanced-normalization-tools'>Ants</a>\n",
    "that should be installed for training or inference.\n",
    "\n",
    "Also they have they own set of functions to help to reescale, resize, normalize and standarize the cubes of data.\n",
    "\n",
    "\n",
    "## IPyWidget Viewer \n",
    "\n",
    "I did a viewer using ipywidgets that allows to visualize the results, with the slider you can move the deepth in the z-axis\n"
   ]
  },
  {
   "cell_type": "code",
   "execution_count": 1,
   "metadata": {},
   "outputs": [
    {
     "name": "stderr",
     "output_type": "stream",
     "text": [
      "Using TensorFlow backend.\n",
      "/root/.local/lib/python3.6/site-packages/tensorflow/python/framework/dtypes.py:516: FutureWarning: Passing (type, 1) or '1type' as a synonym of type is deprecated; in a future version of numpy, it will be understood as (type, (1,)) / '(1,)type'.\n",
      "  _np_qint8 = np.dtype([(\"qint8\", np.int8, 1)])\n",
      "/root/.local/lib/python3.6/site-packages/tensorflow/python/framework/dtypes.py:517: FutureWarning: Passing (type, 1) or '1type' as a synonym of type is deprecated; in a future version of numpy, it will be understood as (type, (1,)) / '(1,)type'.\n",
      "  _np_quint8 = np.dtype([(\"quint8\", np.uint8, 1)])\n",
      "/root/.local/lib/python3.6/site-packages/tensorflow/python/framework/dtypes.py:518: FutureWarning: Passing (type, 1) or '1type' as a synonym of type is deprecated; in a future version of numpy, it will be understood as (type, (1,)) / '(1,)type'.\n",
      "  _np_qint16 = np.dtype([(\"qint16\", np.int16, 1)])\n",
      "/root/.local/lib/python3.6/site-packages/tensorflow/python/framework/dtypes.py:519: FutureWarning: Passing (type, 1) or '1type' as a synonym of type is deprecated; in a future version of numpy, it will be understood as (type, (1,)) / '(1,)type'.\n",
      "  _np_quint16 = np.dtype([(\"quint16\", np.uint16, 1)])\n",
      "/root/.local/lib/python3.6/site-packages/tensorflow/python/framework/dtypes.py:520: FutureWarning: Passing (type, 1) or '1type' as a synonym of type is deprecated; in a future version of numpy, it will be understood as (type, (1,)) / '(1,)type'.\n",
      "  _np_qint32 = np.dtype([(\"qint32\", np.int32, 1)])\n",
      "/root/.local/lib/python3.6/site-packages/tensorflow/python/framework/dtypes.py:525: FutureWarning: Passing (type, 1) or '1type' as a synonym of type is deprecated; in a future version of numpy, it will be understood as (type, (1,)) / '(1,)type'.\n",
      "  np_resource = np.dtype([(\"resource\", np.ubyte, 1)])\n",
      "/root/.local/lib/python3.6/site-packages/tensorboard/compat/tensorflow_stub/dtypes.py:541: FutureWarning: Passing (type, 1) or '1type' as a synonym of type is deprecated; in a future version of numpy, it will be understood as (type, (1,)) / '(1,)type'.\n",
      "  _np_qint8 = np.dtype([(\"qint8\", np.int8, 1)])\n",
      "/root/.local/lib/python3.6/site-packages/tensorboard/compat/tensorflow_stub/dtypes.py:542: FutureWarning: Passing (type, 1) or '1type' as a synonym of type is deprecated; in a future version of numpy, it will be understood as (type, (1,)) / '(1,)type'.\n",
      "  _np_quint8 = np.dtype([(\"quint8\", np.uint8, 1)])\n",
      "/root/.local/lib/python3.6/site-packages/tensorboard/compat/tensorflow_stub/dtypes.py:543: FutureWarning: Passing (type, 1) or '1type' as a synonym of type is deprecated; in a future version of numpy, it will be understood as (type, (1,)) / '(1,)type'.\n",
      "  _np_qint16 = np.dtype([(\"qint16\", np.int16, 1)])\n",
      "/root/.local/lib/python3.6/site-packages/tensorboard/compat/tensorflow_stub/dtypes.py:544: FutureWarning: Passing (type, 1) or '1type' as a synonym of type is deprecated; in a future version of numpy, it will be understood as (type, (1,)) / '(1,)type'.\n",
      "  _np_quint16 = np.dtype([(\"quint16\", np.uint16, 1)])\n",
      "/root/.local/lib/python3.6/site-packages/tensorboard/compat/tensorflow_stub/dtypes.py:545: FutureWarning: Passing (type, 1) or '1type' as a synonym of type is deprecated; in a future version of numpy, it will be understood as (type, (1,)) / '(1,)type'.\n",
      "  _np_qint32 = np.dtype([(\"qint32\", np.int32, 1)])\n",
      "/root/.local/lib/python3.6/site-packages/tensorboard/compat/tensorflow_stub/dtypes.py:550: FutureWarning: Passing (type, 1) or '1type' as a synonym of type is deprecated; in a future version of numpy, it will be understood as (type, (1,)) / '(1,)type'.\n",
      "  np_resource = np.dtype([(\"resource\", np.ubyte, 1)])\n"
     ]
    },
    {
     "name": "stdout",
     "output_type": "stream",
     "text": [
      "200218-12:13:51,319 nipype.utils INFO:\n",
      "\t Running nipype version 1.4.0 (latest: 1.4.2)\n"
     ]
    }
   ],
   "source": [
    "import ipywidgets as widgets\n",
    "from ipywidgets import FloatSlider\n",
    "from ipywidgets import interact, interactive, fixed, interact_manual\n",
    "from ipywidgets import Layout\n",
    "from IPython.display import display,clear_output\n",
    "from IPython.display import display\n",
    "import IPython\n",
    "from ipywidgets import Output\n",
    "\n",
    "import numpy as np\n",
    "import nibabel as nib\n",
    "import matplotlib.pyplot as plt\n",
    "\n",
    "import numpy as np\n",
    "import imutils\n",
    "import cv2\n",
    "import pandas as pd\n",
    "\n",
    "from unet3d.training import load_old_model\n",
    "from unet3d.prediction import predict, patch_wise_prediction, prediction_to_image\n",
    "from unet3d.normalize import normalize_data_storage\n",
    "from unet3d.utils.utils import get_affine, read_image\n",
    "\n",
    "from brats.train import config\n",
    "from brats.preprocess import  normalize_image\n",
    "\n",
    "from tensorflow.compat.v1 import ConfigProto\n",
    "from tensorflow.compat.v1 import InteractiveSession\n",
    "\n",
    "\n",
    "%matplotlib inline"
   ]
  },
  {
   "cell_type": "markdown",
   "metadata": {},
   "source": [
    "# Required to run on RXT GPU Cards"
   ]
  },
  {
   "cell_type": "code",
   "execution_count": 2,
   "metadata": {},
   "outputs": [],
   "source": [
    "gpu_config = ConfigProto()\n",
    "gpu_config.gpu_options.allow_growth = True\n",
    "session = InteractiveSession(config=gpu_config)"
   ]
  },
  {
   "cell_type": "markdown",
   "metadata": {},
   "source": [
    "# Creating a viewer"
   ]
  },
  {
   "cell_type": "code",
   "execution_count": 3,
   "metadata": {},
   "outputs": [],
   "source": [
    "class viewer:\n",
    "    def __init__(self, img,pred):\n",
    "        self.tab = widgets.Tab()\n",
    "        self.childrens = []\n",
    "        self.tab.children = []\n",
    "        self.tab.set_title(0, 'Segmentation')\n",
    "        self.tab.set_title(1, 'Nifti Information')\n",
    "        self.mri_img = img\n",
    "        self.mri_prediction = pred #resize(pred,self.mri_img.pixel_array.shape)  #np.zeros(512*512).reshape((512,512))\n",
    "        \n",
    "        self.mri_payload = self.mri_img #np.array(self.mri_img.dataobj)#np.copy(self.mri_img.pixel_array)\n",
    "        self.mri_slide = self.mri_payload[:,:,10] \n",
    "        self.mri_pred_slide = self.mri_prediction[:,:,10] \n",
    "        \n",
    "        \n",
    "        self.tab_segmentation()\n",
    "        self.tab_dicominformation()\n",
    "        self.display()\n",
    "        \n",
    "    def tab_segmentation(self):\n",
    "        self.mri_slider = widgets.IntSlider(min=0, max=self.mri_payload.shape[2]-1, step=1,value=10,orientation='vertical',description='Deep',layout=Layout(width='150px'))\n",
    "        self.out_mri = widgets.Output(layout=Layout(height='{}px'.format(self.mri_slide.shape[0]), width = '{}px'.format(self.mri_slide.shape[1]), border='None'))\n",
    "        self.out_prediction = widgets.Output(layout=Layout(height='{}px'.format(self.mri_slide.shape[0]), width = '{}px'.format(self.mri_slide.shape[1]), border='None'))\n",
    "        self.out_overlap = widgets.Output(layout=Layout(height='{}px'.format(self.mri_slide.shape[0]), width = '{}px'.format(self.mri_slide.shape[1]), border='None'))\n",
    "        scale=4\n",
    "        def update_mri_plot(value):\n",
    "            self.mri_slide = self.mri_payload[:,:,value]\n",
    "            fig, axes = plt.subplots()\n",
    "            axes.set_title('Original MRI')\n",
    "            dpi = fig.get_dpi()\n",
    "            fig.set_size_inches(self.mri_slide.shape[0]/float(dpi)*scale,self.mri_slide.shape[1]/float(dpi)*scale)\n",
    "            axes.imshow(self.mri_slide,cmap='bone')\n",
    "            plt.show(fig)\n",
    "                    \n",
    "            \n",
    "        def plot_overlap(value):\n",
    "            fig, axes = plt.subplots()\n",
    "            axes.set_title('Overlap')\n",
    "            dpi = fig.get_dpi()\n",
    "            fig.set_size_inches(self.mri_prediction.shape[0]/float(dpi)*scale,self.mri_prediction.shape[1]/float(dpi)*scale)\n",
    "            axes.imshow(self.mri_slide+ self.mri_pred_slide*np.max(self.mri_slide))\n",
    "            plt.show(fig)\n",
    "            \n",
    "        def plot_prediction(value):\n",
    "            self.mri_pred_slide = self.mri_prediction[:,:,value]\n",
    "            img = self.mri_pred_slide #resize(self.mri_prediction,self.mri_img.pixel_array.shape) \n",
    "            fig, axes = plt.subplots()\n",
    "            axes.set_title('Prediction')\n",
    "            dpi = fig.get_dpi()\n",
    "            fig.set_size_inches(self.mri_prediction.shape[0]/float(dpi)*scale,self.mri_prediction.shape[1]/float(dpi)*scale)\n",
    "            axes.imshow(self.mri_pred_slide)\n",
    "            #axes.imshow(self.mri_pred_slide)\n",
    "            plt.show(fig)\n",
    "                    \n",
    "        with self.out_mri :\n",
    "            img0 = interactive(update_mri_plot, value=self.mri_slider)\n",
    "            self.mri_slider.value=13\n",
    "        \n",
    "        \n",
    "        with self.out_prediction :\n",
    "            img2 = interactive(plot_prediction, value=self.mri_slider)\n",
    "            self.mri_slider.value=11\n",
    "        \n",
    "        with self.out_overlap :\n",
    "            img3 = interactive(plot_overlap, value=self.mri_slider)\n",
    "            self.mri_slider.value=10\n",
    "                \n",
    "            \n",
    "        self.hbox=widgets.HBox([img0.children[0],img0.children[1],img2.children[1],img3.children[1]])\n",
    "\n",
    "        self.childrens.append(self.hbox) \n",
    "        \n",
    "    def tab_dicominformation(self):\n",
    "        pass\n",
    "    def display(self):\n",
    "        #self.tab.children = self.childrens\n",
    "        display(self.hbox)\n"
   ]
  },
  {
   "cell_type": "markdown",
   "metadata": {},
   "source": [
    "# Plotting Training/Validation results"
   ]
  },
  {
   "cell_type": "code",
   "execution_count": 4,
   "metadata": {},
   "outputs": [
    {
     "data": {
      "image/png": "[encoded data removed]",
      "text/plain": [
       "<Figure size 1080x360 with 2 Axes>"
      ]
     },
     "metadata": {
      "needs_background": "light"
     },
     "output_type": "display_data"
    }
   ],
   "source": [
    "trainig_history=pd.read_csv('training.log')\n",
    "trainig_history\n",
    "fig, (ax1, ax2) = plt.subplots(1, 2,figsize=(15,5))\n",
    "fig.suptitle('Training Restuls')\n",
    "#plt.figure(figsize=(30,20))\n",
    "# summarize history for accuracy\n",
    "ax1.plot(trainig_history['epoch'].values,trainig_history['dice_coefficient'].values)\n",
    "ax1.plot(trainig_history['epoch'].values,trainig_history['val_dice_coefficient'].values)\n",
    "ax1.set_title('Dice Coefficient')\n",
    "ax1.set_ylabel('Dice Coefficient value')\n",
    "ax1.set_xlabel('epoch')\n",
    "ax1.legend(['train', 'validation'], loc='upper left')\n",
    "#plt.show()\n",
    "# summarize history for loss\n",
    "ax2.plot(trainig_history['epoch'].values,trainig_history['loss'].values)\n",
    "ax2.plot(trainig_history['epoch'].values,trainig_history['val_loss'].values)\n",
    "ax2.set_title('Model Loss')\n",
    "ax2.set_ylabel('loss')\n",
    "ax2.set_xlabel('epoch')\n",
    "ax2.legend(['train', 'test'], loc='upper left')\n",
    "plt.show()\n"
   ]
  },
  {
   "cell_type": "markdown",
   "metadata": {},
   "source": [
    "# Loading the pre-trained model"
   ]
  },
  {
   "cell_type": "code",
   "execution_count": 5,
   "metadata": {},
   "outputs": [
    {
     "name": "stdout",
     "output_type": "stream",
     "text": [
      "Loading pre-trained model\n",
      "WARNING:tensorflow:From /root/.local/lib/python3.6/site-packages/keras/backend/tensorflow_backend.py:422: The name tf.global_variables is deprecated. Please use tf.compat.v1.global_variables instead.\n",
      "\n"
     ]
    }
   ],
   "source": [
    "model=load_old_model('brast-models/model-unet.h5')"
   ]
  },
  {
   "cell_type": "markdown",
   "metadata": {},
   "source": [
    "# Data Preparation for prediction (read this very carefull!)\n",
    "\n",
    "This is a multiclass segmentation model, the input data for the model are four cubes of data then\n",
    "the Input Shape is (4, 128, 128, 128), 4 channels [\"t1\", \"t1ce\", \"flair\", \"t2\"]\n",
    "\n",
    "The output are labels 1,2,4 (this will be fixed when I train it again)\n",
    "\n",
    "labels explanation:\n",
    "* GD-enhancing tumor (ET — label 4)\n",
    "* The peritumoral edema (ED — label 2)\n",
    "* Non-enhancing tumor (NCR/NET — label 1)\n",
    "\n",
    "\n",
    "\n",
    "<h1 style=\"color: red;\"> That means that to evaluate the data of a patient in the hostpital we will need the four images (\"t1\", \"t1ce\", \"flair\", \"t2\") for a single patient</h1>\n",
    "\n"
   ]
  },
  {
   "cell_type": "code",
   "execution_count": 6,
   "metadata": {},
   "outputs": [],
   "source": [
    "# raw input files\n",
    "mri_file_t1    = 'brast-validation/2019/MICCAI_BraTS_2019_Data_Validation/BraTS19_CBICA_AAM_1/BraTS19_CBICA_AAM_1_t1.nii.gz'\n",
    "mri_file_t1ce  = 'brast-validation/2019/MICCAI_BraTS_2019_Data_Validation/BraTS19_CBICA_AAM_1/BraTS19_CBICA_AAM_1_t1ce.nii.gz'\n",
    "mri_file_flair = 'brast-validation/2019/MICCAI_BraTS_2019_Data_Validation/BraTS19_CBICA_AAM_1/BraTS19_CBICA_AAM_1_flair.nii.gz'\n",
    "mri_file_t2    = 'brast-validation/2019/MICCAI_BraTS_2019_Data_Validation/BraTS19_CBICA_AAM_1/BraTS19_CBICA_AAM_1_t2.nii.gz'\n",
    "\n",
    "# output with bias correction using itk/ants\n",
    "mri_file_t1_out    = 'brast-validation/output/data/valid/preprocessed/BraTS19_CBICA_AAM_1_t1_out.nii.gz'\n",
    "mri_file_t1ce_out  = 'brast-validation/output/data/valid/preprocessed/BraTS19_CBICA_AAM_1_t1ce_out.nii.gz'\n",
    "mri_file_flair_out = 'brast-validation/output/data/valid/preprocessed/BraTS19_CBICA_AAM_1_flair_out.nii.gz'\n",
    "mri_file_t2_out    = 'brast-validation/output/data/valid/preprocessed/BraTS19_CBICA_AAM_1_t2_out.nii.gz'\n",
    "\n",
    "#mri_file_t1_out = mri_file_t1\n",
    "#mri_file_t1ce_out = mri_file_t1ce\n",
    "#mri_file_flair_out = mri_file_flair\n",
    "#mri_file_t2_out = mri_file_t2"
   ]
  },
  {
   "cell_type": "markdown",
   "metadata": {},
   "source": [
    "# Bias normalization\n",
    "this use to take a lot of time, we need to do it just one time with all the dataset."
   ]
  },
  {
   "cell_type": "code",
   "execution_count": 7,
   "metadata": {},
   "outputs": [],
   "source": [
    "normalize_ants=False\n",
    "\n",
    "if normalize_ants:\n",
    "    normalize_image(mri_file_t1,mri_file_t1_out)\n",
    "    normalize_image(mri_file_t1ce,mri_file_t1ce_out)\n",
    "    normalize_image(mri_file_flair,mri_file_flair_out)\n",
    "    normalize_image(mri_file_t2,mri_file_t2_out)\n",
    "\n"
   ]
  },
  {
   "cell_type": "markdown",
   "metadata": {},
   "source": [
    "# Reading images\n",
    "\n",
    "the pre-trained model <a href='https://github.com/ellisdg/3DUnetCNN#pre-trained-models'>https://github.com/ellisdg/3DUnetCNN#pre-trained-models</a>\n",
    "was trained with a input shape of (128,128,128) for every category  [\"t1\", \"t1ce\", \"flair\", \"t2\"],\n",
    "the read_image function allows to read and resize the cube of data.\n",
    "\n",
    "The final shape for the event(Tensor) to be evaluate should be (4,128,128,128)\n",
    "\n",
    "\n"
   ]
  },
  {
   "cell_type": "code",
   "execution_count": 8,
   "metadata": {},
   "outputs": [
    {
     "name": "stdout",
     "output_type": "stream",
     "text": [
      "Reading: brast-validation/output/data/valid/preprocessed/BraTS19_CBICA_AAM_1_t1_out.nii.gz\n",
      "Reading: brast-validation/output/data/valid/preprocessed/BraTS19_CBICA_AAM_1_t1ce_out.nii.gz\n",
      "Reading: brast-validation/output/data/valid/preprocessed/BraTS19_CBICA_AAM_1_flair_out.nii.gz\n",
      "Reading: brast-validation/output/data/valid/preprocessed/BraTS19_CBICA_AAM_1_t2_out.nii.gz\n",
      "(240, 240, 240)\n",
      "(240, 240, 240)\n",
      "(240, 240, 240)\n",
      "(240, 240, 240)\n"
     ]
    }
   ],
   "source": [
    "dim_size=240\n",
    "img_shape=(dim_size,dim_size,dim_size)\n",
    "\n",
    "mri_t1=read_image(mri_file_t1_out,img_shape)\n",
    "mri_t1ce=read_image(mri_file_t1ce_out,img_shape)\n",
    "mri_flair=read_image(mri_file_flair_out,img_shape)\n",
    "mri_t2=read_image(mri_file_t2_out,img_shape)\n",
    "#mri_label = read_image(label_file,img_shape)\n",
    "\n",
    "\n",
    "mri_t1=np.array(mri_t1.dataobj)\n",
    "mri_t1ce=np.array(mri_t1ce.dataobj)\n",
    "mri_flair=np.array(mri_flair.dataobj)\n",
    "mri_t2=np.array(mri_t2.dataobj)\n",
    "#mri_label = np.array(mri_label.dataobj)\n",
    "\n",
    "print(mri_t1.shape)\n",
    "print(mri_t1ce.shape)\n",
    "print(mri_flair.shape)\n",
    "print(mri_t2.shape)\n",
    "#print(mri_label.shape)\n"
   ]
  },
  {
   "cell_type": "markdown",
   "metadata": {},
   "source": [
    "# Standarization\n",
    "they call it normalization but it is more like a data standarization \n",
    "because they are subtranting the mean and dividing by the standar deviation  \n",
    "\n",
    "their code snippet\n",
    "```py\n",
    "def normalize_data(data, mean, std):\n",
    "    data -= mean[:, np.newaxis, np.newaxis, np.newaxis]\n",
    "    data /= std[:, np.newaxis, np.newaxis, np.newaxis]\n",
    "    return data\n",
    "```"
   ]
  },
  {
   "cell_type": "code",
   "execution_count": 9,
   "metadata": {},
   "outputs": [],
   "source": [
    "normalize_data=True\n",
    "if normalize_data:\n",
    "    data_storage = normalize_data_storage(np.array([[mri_t1],[mri_t1ce],[mri_flair],[mri_t2]]))\n",
    "    mri_t1    = data_storage[0,0,:,:,:]\n",
    "    mri_t1ce  = data_storage[1,0,:,:,:]\n",
    "    mri_flair = data_storage[2,0,:,:,:]\n",
    "    mri_t2    = data_storage[3,0,:,:,:]\n"
   ]
  },
  {
   "cell_type": "markdown",
   "metadata": {},
   "source": [
    "# Creating the event\n",
    "\n",
    "The four cube of images([\"t1\", \"t1ce\", \"flair\", \"t2\"]) in a single tensor.\n",
    "\n",
    "Shape (4,128,128,128)"
   ]
  },
  {
   "cell_type": "code",
   "execution_count": 10,
   "metadata": {},
   "outputs": [
    {
     "name": "stdout",
     "output_type": "stream",
     "text": [
      "(4, 240, 240, 240)\n"
     ]
    }
   ],
   "source": [
    "event=np.array([mri_t1,mri_t1ce,mri_flair,mri_t2])\n",
    "print(event.shape)"
   ]
  },
  {
   "cell_type": "markdown",
   "metadata": {},
   "source": [
    "# Prediction\n",
    "\n",
    "I am using the default parameters that they are using for training, \n",
    "you can see that in config dictionary import it from the treining module.\n",
    "```\n",
    "from brats.train import config\n",
    "```\n"
   ]
  },
  {
   "cell_type": "code",
   "execution_count": 11,
   "metadata": {},
   "outputs": [
    {
     "name": "stdout",
     "output_type": "stream",
     "text": [
      "Reading: brast-validation/2019/MICCAI_BraTS_2019_Data_Validation/BraTS19_CBICA_AAM_1/BraTS19_CBICA_AAM_1_t1.nii.gz\n"
     ]
    }
   ],
   "source": [
    "threshold=0.5\n",
    "output_label_map=True\n",
    "affine = get_affine(mri_file_t1)\n",
    "event=np.asarray([[mri_t1,mri_t1ce,mri_flair,mri_t2]])\n",
    "prediction = patch_wise_prediction(model=model, data=event, overlap=config[\"validation_patch_overlap\"], permute=config['permute'])[np.newaxis]\n",
    "prediction_image = prediction_to_image(prediction, affine, label_map=output_label_map, threshold=threshold,labels=config[\"labels\"])\n"
   ]
  },
  {
   "cell_type": "code",
   "execution_count": 20,
   "metadata": {},
   "outputs": [],
   "source": [
    "plabel2 = prediction[0,0,:,:,:]\n",
    "plabel4 = prediction[0,1,:,:,:]\n",
    "#plabel2 = prediction_image.dataobj\n",
    "#plabel4 = prediction_image.dataobj\n"
   ]
  },
  {
   "cell_type": "code",
   "execution_count": 12,
   "metadata": {},
   "outputs": [
    {
     "data": {
      "text/plain": [
       "(240, 240, 240)"
      ]
     },
     "execution_count": 12,
     "metadata": {},
     "output_type": "execute_result"
    }
   ],
   "source": [
    "prediction_image.dataobj.shape"
   ]
  },
  {
   "cell_type": "markdown",
   "metadata": {},
   "source": [
    "# Results Visualization \n",
    "\n",
    "using the viewer that I did, you can to visualize the results,\n",
    "maybe you can play in the prediction cell with the parameters to get better results or you can to post process it to filter some noise."
   ]
  },
  {
   "cell_type": "markdown",
   "metadata": {},
   "source": [
    "# Results label 4 (GD-enhancing tumor)"
   ]
  },
  {
   "cell_type": "code",
   "execution_count": 21,
   "metadata": {},
   "outputs": [
    {
     "data": {
      "application/vnd.jupyter.widget-view+json": {
       "model_id": "8b7a1c611a7140458dded5df9af42597",
       "version_major": 2,
       "version_minor": 0
      },
      "text/plain": [
       "HBox(children=(IntSlider(value=10, description='Deep', layout=Layout(width='150px'), max=239, orientation='ver…"
      ]
     },
     "metadata": {},
     "output_type": "display_data"
    },
    {
     "data": {
      "text/plain": [
       "<__main__.viewer at 0x7f780795a7b8>"
      ]
     },
     "execution_count": 21,
     "metadata": {},
     "output_type": "execute_result"
    }
   ],
   "source": [
    "viewer(mri_t1,plabel4)"
   ]
  },
  {
   "cell_type": "markdown",
   "metadata": {},
   "source": [
    "# Results label 2 (The peritumoral edema)"
   ]
  },
  {
   "cell_type": "code",
   "execution_count": 22,
   "metadata": {},
   "outputs": [
    {
     "data": {
      "application/vnd.jupyter.widget-view+json": {
       "model_id": "8d73f24b96234145a78ab3bae5e7ff2b",
       "version_major": 2,
       "version_minor": 0
      },
      "text/plain": [
       "HBox(children=(IntSlider(value=10, description='Deep', layout=Layout(width='150px'), max=239, orientation='ver…"
      ]
     },
     "metadata": {},
     "output_type": "display_data"
    },
    {
     "data": {
      "text/plain": [
       "<__main__.viewer at 0x7f780d16f8d0>"
      ]
     },
     "execution_count": 22,
     "metadata": {},
     "output_type": "execute_result"
    }
   ],
   "source": [
    "viewer(mri_t1,plabel2)"
   ]
  },
  {
   "cell_type": "markdown",
   "metadata": {},
   "source": [
    "# All together"
   ]
  },
  {
   "cell_type": "code",
   "execution_count": 23,
   "metadata": {},
   "outputs": [
    {
     "data": {
      "application/vnd.jupyter.widget-view+json": {
       "model_id": "4df00f8ecb044ed38ab7bf06e0c68f74",
       "version_major": 2,
       "version_minor": 0
      },
      "text/plain": [
       "HBox(children=(IntSlider(value=10, description='Deep', layout=Layout(width='150px'), max=239, orientation='ver…"
      ]
     },
     "metadata": {},
     "output_type": "display_data"
    },
    {
     "data": {
      "text/plain": [
       "<__main__.viewer at 0x7f780d787e80>"
      ]
     },
     "execution_count": 23,
     "metadata": {},
     "output_type": "execute_result"
    }
   ],
   "source": [
    "viewer(mri_t1,plabel2+(plabel4*2))"
   ]
  },
  {
   "cell_type": "markdown",
   "metadata": {},
   "source": [
    "# 3D Visualization using ipyvolume"
   ]
  },
  {
   "cell_type": "code",
   "execution_count": 24,
   "metadata": {},
   "outputs": [],
   "source": [
    "import ipyvolume as ipv\n",
    "import ipyvolume.pylab as p3"
   ]
  },
  {
   "cell_type": "code",
   "execution_count": 25,
   "metadata": {},
   "outputs": [
    {
     "name": "stderr",
     "output_type": "stream",
     "text": [
      "/root/.local/lib/python3.6/site-packages/ipyvolume/serialize.py:81: RuntimeWarning: invalid value encountered in true_divide\n",
      "  gradient = gradient / np.sqrt(gradient[0]**2 + gradient[1]**2 + gradient[2]**2)\n"
     ]
    },
    {
     "data": {
      "application/vnd.jupyter.widget-view+json": {
       "model_id": "5f9243d160534d4496c4cf2821ed22c7",
       "version_major": 2,
       "version_minor": 0
      },
      "text/plain": [
       "VBox(children=(VBox(children=(HBox(children=(Label(value='levels:'), FloatSlider(value=0.1, max=1.0, step=0.00…"
      ]
     },
     "metadata": {},
     "output_type": "display_data"
    }
   ],
   "source": [
    "ipv.figure()\n",
    "ipv.volshow(plabel2)\n",
    "ipv.show()"
   ]
  },
  {
   "cell_type": "code",
   "execution_count": 26,
   "metadata": {},
   "outputs": [
    {
     "data": {
      "application/vnd.jupyter.widget-view+json": {
       "model_id": "e3e87b0375734c3687b30864476c421d",
       "version_major": 2,
       "version_minor": 0
      },
      "text/plain": [
       "VBox(children=(VBox(children=(HBox(children=(Label(value='levels:'), FloatSlider(value=0.1, max=1.0, step=0.00…"
      ]
     },
     "metadata": {},
     "output_type": "display_data"
    }
   ],
   "source": [
    "ipv.figure()\n",
    "ipv.volshow(plabel4)\n",
    "ipv.show()"
   ]
  },
  {
   "cell_type": "code",
   "execution_count": 27,
   "metadata": {},
   "outputs": [
    {
     "data": {
      "application/vnd.jupyter.widget-view+json": {
       "model_id": "a82773092c194938910c59bb4b1535a1",
       "version_major": 2,
       "version_minor": 0
      },
      "text/plain": [
       "VBox(children=(VBox(children=(HBox(children=(Label(value='levels:'), FloatSlider(value=0.1, max=1.0, step=0.00…"
      ]
     },
     "metadata": {},
     "output_type": "display_data"
    }
   ],
   "source": [
    "ipv.figure()\n",
    "ipv.volshow(mri_t1*0.6+plabel4*500+plabel2*255)\n",
    "ipv.show()"
   ]
  },
  {
   "cell_type": "code",
   "execution_count": null,
   "metadata": {},
   "outputs": [],
   "source": []
  },
  {
   "cell_type": "code",
   "execution_count": null,
   "metadata": {},
   "outputs": [],
   "source": []
  }
 ],
 "metadata": {
  "kernelspec": {
   "display_name": "Python 3",
   "language": "python",
   "name": "python3"
  },
  "language_info": {
   "codemirror_mode": {
    "name": "ipython",
    "version": 3
   },
   "file_extension": ".py",
   "mimetype": "text/x-python",
   "name": "python",
   "nbconvert_exporter": "python",
   "pygments_lexer": "ipython3",
   "version": "3.6.8"
  }
 },
 "nbformat": 4,
 "nbformat_minor": 4
}
